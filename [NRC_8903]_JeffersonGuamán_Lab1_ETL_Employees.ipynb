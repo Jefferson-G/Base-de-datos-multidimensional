{
  "cells": [
    {
      "cell_type": "code",
      "execution_count": 22,
      "id": "897f6b27",
      "metadata": {
        "id": "897f6b27"
      },
      "outputs": [],
      "source": [
        "#librerias\n",
        "import sqlalchemy\n",
        "from sqlalchemy import create_engine\n",
        "from sqlalchemy import Table, Column, Integer, String, MetaData, ForeignKey\n",
        "from sqlalchemy import inspect"
      ]
    },
    {
      "cell_type": "code",
      "execution_count": 23,
      "id": "4ebe951f",
      "metadata": {
        "colab": {
          "base_uri": "https://localhost:8080/"
        },
        "id": "4ebe951f",
        "outputId": "c74d81d1-9b0e-4879-db4a-e093df98ebf2"
      },
      "outputs": [
        {
          "output_type": "execute_result",
          "data": {
            "text/plain": [
              "Engine(sqlite:///chinook.db)"
            ]
          },
          "metadata": {},
          "execution_count": 23
        }
      ],
      "source": [
        "#Conectar el motor al archivo de la base de datos a usar\n",
        "engine = create_engine('sqlite:///chinook.db')\n",
        "engine"
      ]
    },
    {
      "cell_type": "markdown",
      "id": "cc08b636",
      "metadata": {
        "id": "cc08b636"
      },
      "source": [
        "# Extract"
      ]
    },
    {
      "cell_type": "code",
      "execution_count": 24,
      "id": "3878f188",
      "metadata": {
        "colab": {
          "base_uri": "https://localhost:8080/"
        },
        "id": "3878f188",
        "outputId": "1278dd75-83c2-491b-afcb-ff5845af2654"
      },
      "outputs": [
        {
          "output_type": "execute_result",
          "data": {
            "text/plain": [
              "[{'autoincrement': 'auto',\n",
              "  'default': None,\n",
              "  'name': 'EmployeeId',\n",
              "  'nullable': False,\n",
              "  'primary_key': 1,\n",
              "  'type': INTEGER()},\n",
              " {'autoincrement': 'auto',\n",
              "  'default': None,\n",
              "  'name': 'LastName',\n",
              "  'nullable': False,\n",
              "  'primary_key': 0,\n",
              "  'type': NVARCHAR(length=20)},\n",
              " {'autoincrement': 'auto',\n",
              "  'default': None,\n",
              "  'name': 'FirstName',\n",
              "  'nullable': False,\n",
              "  'primary_key': 0,\n",
              "  'type': NVARCHAR(length=20)},\n",
              " {'autoincrement': 'auto',\n",
              "  'default': None,\n",
              "  'name': 'Title',\n",
              "  'nullable': True,\n",
              "  'primary_key': 0,\n",
              "  'type': NVARCHAR(length=30)},\n",
              " {'autoincrement': 'auto',\n",
              "  'default': None,\n",
              "  'name': 'ReportsTo',\n",
              "  'nullable': True,\n",
              "  'primary_key': 0,\n",
              "  'type': INTEGER()},\n",
              " {'autoincrement': 'auto',\n",
              "  'default': None,\n",
              "  'name': 'BirthDate',\n",
              "  'nullable': True,\n",
              "  'primary_key': 0,\n",
              "  'type': DATETIME()},\n",
              " {'autoincrement': 'auto',\n",
              "  'default': None,\n",
              "  'name': 'HireDate',\n",
              "  'nullable': True,\n",
              "  'primary_key': 0,\n",
              "  'type': DATETIME()},\n",
              " {'autoincrement': 'auto',\n",
              "  'default': None,\n",
              "  'name': 'Address',\n",
              "  'nullable': True,\n",
              "  'primary_key': 0,\n",
              "  'type': NVARCHAR(length=70)},\n",
              " {'autoincrement': 'auto',\n",
              "  'default': None,\n",
              "  'name': 'City',\n",
              "  'nullable': True,\n",
              "  'primary_key': 0,\n",
              "  'type': NVARCHAR(length=40)},\n",
              " {'autoincrement': 'auto',\n",
              "  'default': None,\n",
              "  'name': 'State',\n",
              "  'nullable': True,\n",
              "  'primary_key': 0,\n",
              "  'type': NVARCHAR(length=40)},\n",
              " {'autoincrement': 'auto',\n",
              "  'default': None,\n",
              "  'name': 'Country',\n",
              "  'nullable': True,\n",
              "  'primary_key': 0,\n",
              "  'type': NVARCHAR(length=40)},\n",
              " {'autoincrement': 'auto',\n",
              "  'default': None,\n",
              "  'name': 'PostalCode',\n",
              "  'nullable': True,\n",
              "  'primary_key': 0,\n",
              "  'type': NVARCHAR(length=10)},\n",
              " {'autoincrement': 'auto',\n",
              "  'default': None,\n",
              "  'name': 'Phone',\n",
              "  'nullable': True,\n",
              "  'primary_key': 0,\n",
              "  'type': NVARCHAR(length=24)},\n",
              " {'autoincrement': 'auto',\n",
              "  'default': None,\n",
              "  'name': 'Fax',\n",
              "  'nullable': True,\n",
              "  'primary_key': 0,\n",
              "  'type': NVARCHAR(length=24)},\n",
              " {'autoincrement': 'auto',\n",
              "  'default': None,\n",
              "  'name': 'Email',\n",
              "  'nullable': True,\n",
              "  'primary_key': 0,\n",
              "  'type': NVARCHAR(length=60)}]"
            ]
          },
          "metadata": {},
          "execution_count": 24
        }
      ],
      "source": [
        "# SQL Expression Language crea metadatos que contienen objetos que definen la tabla de datos.\n",
        "metadata = MetaData()\n",
        "\n",
        "# Este método instancia las tablas que ya\n",
        "# existe en la base de datos, a la que está conectado el motor.\n",
        "metadata.create_all(engine)\n",
        "\n",
        "# Revisando esto, podemos ver la estructura de la tabla y los tipos de variables para la tabla de datos.\n",
        "inspector = inspect(engine)\n",
        "\n",
        "#Revisé las columnas en la tabla. \n",
        "inspector.get_columns('employees')"
      ]
    },
    {
      "cell_type": "markdown",
      "id": "5f430806",
      "metadata": {
        "id": "5f430806"
      },
      "source": [
        "# Transform"
      ]
    },
    {
      "cell_type": "code",
      "execution_count": 25,
      "id": "6b5a762a",
      "metadata": {
        "colab": {
          "base_uri": "https://localhost:8080/"
        },
        "id": "6b5a762a",
        "outputId": "d568d7a8-3f0b-4f60-fbfd-ed56e8492a88"
      },
      "outputs": [
        {
          "output_type": "stream",
          "name": "stdout",
          "text": [
            "(1, 'Adams', 'Andrew', 'General Manager', None, '1962-02-18 00:00:00', '2002-08-14 00:00:00', '11120 Jasper Ave NW', 'Edmonton', 'AB', 'Canada', 'T5K 2N1', '+1 (780) 428-9482', '+1 (780) 428-3457', 'andrew@chinookcorp.com')\n",
            "(2, 'Edwards', 'Nancy', 'Sales Manager', 1, '1958-12-08 00:00:00', '2002-05-01 00:00:00', '825 8 Ave SW', 'Calgary', 'AB', 'Canada', 'T2P 2T3', '+1 (403) 262-3443', '+1 (403) 262-3322', 'nancy@chinookcorp.com')\n",
            "(3, 'Peacock', 'Jane', 'Sales Support Agent', 2, '1973-08-29 00:00:00', '2002-04-01 00:00:00', '1111 6 Ave SW', 'Calgary', 'AB', 'Canada', 'T2P 5M5', '+1 (403) 262-3443', '+1 (403) 262-6712', 'jane@chinookcorp.com')\n",
            "(4, 'Park', 'Margaret', 'Sales Support Agent', 2, '1947-09-19 00:00:00', '2003-05-03 00:00:00', '683 10 Street SW', 'Calgary', 'AB', 'Canada', 'T2P 5G3', '+1 (403) 263-4423', '+1 (403) 263-4289', 'margaret@chinookcorp.com')\n",
            "(5, 'Johnson', 'Steve', 'Sales Support Agent', 2, '1965-03-03 00:00:00', '2003-10-17 00:00:00', '7727B 41 Ave', 'Calgary', 'AB', 'Canada', 'T3B 1Y7', '1 (780) 836-9987', '1 (780) 836-9543', 'steve@chinookcorp.com')\n",
            "(6, 'Mitchell', 'Michael', 'IT Manager', 1, '1973-07-01 00:00:00', '2003-10-17 00:00:00', '5827 Bowness Road NW', 'Calgary', 'AB', 'Canada', 'T3B 0C5', '+1 (403) 246-9887', '+1 (403) 246-9899', 'michael@chinookcorp.com')\n",
            "(7, 'King', 'Robert', 'IT Staff', 6, '1970-05-29 00:00:00', '2004-01-02 00:00:00', '590 Columbia Boulevard West', 'Lethbridge', 'AB', 'Canada', 'T1K 5N8', '+1 (403) 456-9986', '+1 (403) 456-8485', 'robert@chinookcorp.com')\n",
            "(8, 'Callahan', 'Laura', 'IT Staff', 6, '1968-01-09 00:00:00', '2004-03-04 00:00:00', '923 7 ST NW', 'Lethbridge', 'AB', 'Canada', 'T1H 1Y8', '+1 (403) 467-3351', '+1 (403) 467-8772', 'laura@chinookcorp.com')\n"
          ]
        }
      ],
      "source": [
        "#seleccionar todos los campos de la tabla.\n",
        "\n",
        "# Ejecutemos SQL sin procesar en algunas tablas usando SQLAlchemy\n",
        "with engine.connect() as con:\n",
        "    \n",
        "    rs = con.execute('select * from employees')\n",
        "    \n",
        "    for row in rs:\n",
        "        print(row)\n",
        "# No olvide cerrar su conexión a la base de datos cuando finalice la consulta\n",
        "con.close()\n",
        "\n",
        "# Nota: Use LIMIT n para limitar el número de filas devueltas. No hay problema con esta pequeña mesa.\n"
      ]
    },
    {
      "cell_type": "code",
      "execution_count": 26,
      "id": "6549e49e",
      "metadata": {
        "id": "6549e49e"
      },
      "outputs": [],
      "source": [
        "# Consulta especifica para los datos que necesito.\n",
        "\n",
        "with engine.connect() as con:\n",
        "    \n",
        "    rs = con.execute(\"\"\"select EmployeeId, LastName, FirstName, Title, BirthDate, HireDate,\n",
        "Address, City, State, Country, PostalCode, Phone,\n",
        "Fax, Email from employees;\"\"\")\n",
        "        \n",
        "con.close()\n"
      ]
    },
    {
      "cell_type": "markdown",
      "id": "2ecbf5c8",
      "metadata": {
        "id": "2ecbf5c8"
      },
      "source": [
        "# Load"
      ]
    },
    {
      "cell_type": "code",
      "execution_count": 28,
      "id": "e0c704b0",
      "metadata": {
        "id": "e0c704b0"
      },
      "outputs": [],
      "source": [
        "#Cargar a última query. Aquí debe utilizar un objeto dataframe\n",
        "import pandas as pd\n",
        "df = pd.read_sql_query(\"\"\"select EmployeeId, LastName, FirstName, Title, BirthDate, HireDate,\n",
        "Address, City, State, Country, PostalCode, Phone,\n",
        "Fax, Email from employees;\"\"\", con=engine.connect())\n"
      ]
    },
    {
      "cell_type": "code",
      "execution_count": 29,
      "id": "8e1eb443",
      "metadata": {
        "id": "8e1eb443"
      },
      "outputs": [],
      "source": [
        "#Exportar el archivo en un formato a su elección.\n",
        "df.to_csv('dimEmployees.csv')\n"
      ]
    }
  ],
  "metadata": {
    "kernelspec": {
      "display_name": "Python 3",
      "language": "python",
      "name": "python3"
    },
    "language_info": {
      "codemirror_mode": {
        "name": "ipython",
        "version": 3
      },
      "file_extension": ".py",
      "mimetype": "text/x-python",
      "name": "python",
      "nbconvert_exporter": "python",
      "pygments_lexer": "ipython3",
      "version": "3.6.10"
    },
    "colab": {
      "name": "[NRC_8903]_JeffersonGuamán_Lab1_ETL_Employees.ipynb",
      "provenance": [],
      "collapsed_sections": []
    }
  },
  "nbformat": 4,
  "nbformat_minor": 5
}