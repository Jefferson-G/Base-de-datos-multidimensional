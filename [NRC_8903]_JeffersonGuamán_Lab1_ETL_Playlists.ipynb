{
  "cells": [
    {
      "cell_type": "code",
      "execution_count": 44,
      "id": "897f6b27",
      "metadata": {
        "id": "897f6b27"
      },
      "outputs": [],
      "source": [
        "#librerias\n",
        "import sqlalchemy\n",
        "from sqlalchemy import create_engine\n",
        "from sqlalchemy import Table, Column, Integer, String, MetaData, ForeignKey\n",
        "from sqlalchemy import inspect"
      ]
    },
    {
      "cell_type": "code",
      "execution_count": 45,
      "id": "4ebe951f",
      "metadata": {
        "colab": {
          "base_uri": "https://localhost:8080/"
        },
        "id": "4ebe951f",
        "outputId": "32f23444-ae93-4a23-80e0-5b033ec6cbe6"
      },
      "outputs": [
        {
          "output_type": "execute_result",
          "data": {
            "text/plain": [
              "Engine(sqlite:///chinook.db)"
            ]
          },
          "metadata": {},
          "execution_count": 45
        }
      ],
      "source": [
        "#Conectar el motor al archivo de la base de datos a usar\n",
        "engine = create_engine('sqlite:///chinook.db')\n",
        "engine"
      ]
    },
    {
      "cell_type": "markdown",
      "id": "cc08b636",
      "metadata": {
        "id": "cc08b636"
      },
      "source": [
        "# Extract"
      ]
    },
    {
      "cell_type": "code",
      "execution_count": 46,
      "id": "3878f188",
      "metadata": {
        "colab": {
          "base_uri": "https://localhost:8080/"
        },
        "id": "3878f188",
        "outputId": "4e001636-74fe-4761-fd6d-d933f42853a7"
      },
      "outputs": [
        {
          "output_type": "execute_result",
          "data": {
            "text/plain": [
              "[{'autoincrement': 'auto',\n",
              "  'default': None,\n",
              "  'name': 'PlaylistId',\n",
              "  'nullable': False,\n",
              "  'primary_key': 1,\n",
              "  'type': INTEGER()},\n",
              " {'autoincrement': 'auto',\n",
              "  'default': None,\n",
              "  'name': 'Name',\n",
              "  'nullable': True,\n",
              "  'primary_key': 0,\n",
              "  'type': NVARCHAR(length=120)}]"
            ]
          },
          "metadata": {},
          "execution_count": 46
        }
      ],
      "source": [
        "# SQL Expression Language crea metadatos que contienen objetos que definen la tabla de datos.\n",
        "metadata = MetaData()\n",
        "\n",
        "# Este método instancia las tablas que ya\n",
        "# existe en la base de datos, a la que está conectado el motor.\n",
        "metadata.create_all(engine)\n",
        "\n",
        "# Revisando esto, podemos ver la estructura de la tabla y los tipos de variables para la tabla de datos.\n",
        "inspector = inspect(engine)\n",
        "\n",
        "#Revisé las columnas en la tabla. \n",
        "inspector.get_columns('playlists')"
      ]
    },
    {
      "cell_type": "markdown",
      "id": "5f430806",
      "metadata": {
        "id": "5f430806"
      },
      "source": [
        "# Transform"
      ]
    },
    {
      "cell_type": "code",
      "execution_count": 47,
      "id": "6b5a762a",
      "metadata": {
        "colab": {
          "base_uri": "https://localhost:8080/"
        },
        "id": "6b5a762a",
        "outputId": "2dabacc4-dff7-4cc8-8b44-5b666e4f0b82"
      },
      "outputs": [
        {
          "output_type": "stream",
          "name": "stdout",
          "text": [
            "(1, 'Music')\n",
            "(2, 'Movies')\n",
            "(3, 'TV Shows')\n",
            "(4, 'Audiobooks')\n",
            "(5, '90’s Music')\n",
            "(6, 'Audiobooks')\n",
            "(7, 'Movies')\n",
            "(8, 'Music')\n",
            "(9, 'Music Videos')\n",
            "(10, 'TV Shows')\n",
            "(11, 'Brazilian Music')\n",
            "(12, 'Classical')\n",
            "(13, 'Classical 101 - Deep Cuts')\n",
            "(14, 'Classical 101 - Next Steps')\n",
            "(15, 'Classical 101 - The Basics')\n",
            "(16, 'Grunge')\n",
            "(17, 'Heavy Metal Classic')\n",
            "(18, 'On-The-Go 1')\n"
          ]
        }
      ],
      "source": [
        "#seleccionar todos los campos de la tabla.\n",
        "\n",
        "# Ejecutemos SQL sin procesar en algunas tablas usando SQLAlchemy\n",
        "with engine.connect() as con:\n",
        "    \n",
        "    rs = con.execute('select * from playlists')\n",
        "    \n",
        "    for row in rs:\n",
        "        print(row)\n",
        "# No olvide cerrar su conexión a la base de datos cuando finalice la consulta\n",
        "con.close()\n",
        "\n",
        "# Nota: Use LIMIT n para limitar el número de filas devueltas. No hay problema con esta pequeña mesa.\n"
      ]
    },
    {
      "cell_type": "code",
      "execution_count": 48,
      "id": "6549e49e",
      "metadata": {
        "id": "6549e49e"
      },
      "outputs": [],
      "source": [
        "# Consulta especifica para los datos que necesito.\n",
        "\n",
        "with engine.connect() as con:\n",
        "    \n",
        "    rs = con.execute(\"\"\"select PlaylistId, Name as NamePlaylist from playlists;\"\"\")\n",
        "        \n",
        "con.close()\n"
      ]
    },
    {
      "cell_type": "markdown",
      "id": "2ecbf5c8",
      "metadata": {
        "id": "2ecbf5c8"
      },
      "source": [
        "# Load"
      ]
    },
    {
      "cell_type": "code",
      "execution_count": 49,
      "id": "e0c704b0",
      "metadata": {
        "id": "e0c704b0"
      },
      "outputs": [],
      "source": [
        "#Cargar a última query. Aquí debe utilizar un objeto dataframe\n",
        "import pandas as pd\n",
        "df = pd.read_sql_query(\"\"\"select PlaylistId, Name as NamePlaylist from playlists;\"\"\", con=engine.connect())\n"
      ]
    },
    {
      "cell_type": "code",
      "execution_count": 50,
      "id": "8e1eb443",
      "metadata": {
        "id": "8e1eb443"
      },
      "outputs": [],
      "source": [
        "#Exportar el archivo en un formato a su elección.\n",
        "df.to_csv('dimPlaylists.csv')\n"
      ]
    }
  ],
  "metadata": {
    "kernelspec": {
      "display_name": "Python 3",
      "language": "python",
      "name": "python3"
    },
    "language_info": {
      "codemirror_mode": {
        "name": "ipython",
        "version": 3
      },
      "file_extension": ".py",
      "mimetype": "text/x-python",
      "name": "python",
      "nbconvert_exporter": "python",
      "pygments_lexer": "ipython3",
      "version": "3.6.10"
    },
    "colab": {
      "name": "[NRC_8903]_JeffersonGuamán_Lab1_ETL_Playlists.ipynb",
      "provenance": [],
      "collapsed_sections": []
    }
  },
  "nbformat": 4,
  "nbformat_minor": 5
}