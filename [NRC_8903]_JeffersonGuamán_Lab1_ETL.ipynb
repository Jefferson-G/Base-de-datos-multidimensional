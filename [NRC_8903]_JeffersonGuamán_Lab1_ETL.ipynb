{
  "cells": [
    {
      "cell_type": "code",
      "execution_count": null,
      "id": "897f6b27",
      "metadata": {
        "id": "897f6b27"
      },
      "outputs": [],
      "source": [
        "#librerias\n",
        "import sqlalchemy\n",
        "from sqlalchemy import create_engine\n",
        "from sqlalchemy import Table, Column, Integer, String, MetaData, ForeignKey\n",
        "from sqlalchemy import inspect"
      ]
    },
    {
      "cell_type": "code",
      "execution_count": null,
      "id": "4ebe951f",
      "metadata": {
        "colab": {
          "base_uri": "https://localhost:8080/"
        },
        "id": "4ebe951f",
        "outputId": "4e9cf5bb-5a7c-4008-b35f-8c933698c20a"
      },
      "outputs": [
        {
          "output_type": "execute_result",
          "data": {
            "text/plain": [
              "Engine(sqlite:///chinook.db)"
            ]
          },
          "metadata": {},
          "execution_count": 27
        }
      ],
      "source": [
        "#Conectar el motor al archivo de la base de datos a usar\n",
        "engine = create_engine('sqlite:///chinook.db')\n",
        "engine"
      ]
    },
    {
      "cell_type": "markdown",
      "id": "cc08b636",
      "metadata": {
        "id": "cc08b636"
      },
      "source": [
        "# Extract"
      ]
    },
    {
      "cell_type": "code",
      "execution_count": null,
      "id": "3878f188",
      "metadata": {
        "colab": {
          "base_uri": "https://localhost:8080/"
        },
        "id": "3878f188",
        "outputId": "e5df4a09-2007-4b50-b191-31433793c604"
      },
      "outputs": [
        {
          "output_type": "execute_result",
          "data": {
            "text/plain": [
              "[{'autoincrement': 'auto',\n",
              "  'default': None,\n",
              "  'name': 'CustomerId',\n",
              "  'nullable': False,\n",
              "  'primary_key': 1,\n",
              "  'type': INTEGER()},\n",
              " {'autoincrement': 'auto',\n",
              "  'default': None,\n",
              "  'name': 'FirstName',\n",
              "  'nullable': False,\n",
              "  'primary_key': 0,\n",
              "  'type': NVARCHAR(length=40)},\n",
              " {'autoincrement': 'auto',\n",
              "  'default': None,\n",
              "  'name': 'LastName',\n",
              "  'nullable': False,\n",
              "  'primary_key': 0,\n",
              "  'type': NVARCHAR(length=20)},\n",
              " {'autoincrement': 'auto',\n",
              "  'default': None,\n",
              "  'name': 'Company',\n",
              "  'nullable': True,\n",
              "  'primary_key': 0,\n",
              "  'type': NVARCHAR(length=80)},\n",
              " {'autoincrement': 'auto',\n",
              "  'default': None,\n",
              "  'name': 'Address',\n",
              "  'nullable': True,\n",
              "  'primary_key': 0,\n",
              "  'type': NVARCHAR(length=70)},\n",
              " {'autoincrement': 'auto',\n",
              "  'default': None,\n",
              "  'name': 'City',\n",
              "  'nullable': True,\n",
              "  'primary_key': 0,\n",
              "  'type': NVARCHAR(length=40)},\n",
              " {'autoincrement': 'auto',\n",
              "  'default': None,\n",
              "  'name': 'State',\n",
              "  'nullable': True,\n",
              "  'primary_key': 0,\n",
              "  'type': NVARCHAR(length=40)},\n",
              " {'autoincrement': 'auto',\n",
              "  'default': None,\n",
              "  'name': 'Country',\n",
              "  'nullable': True,\n",
              "  'primary_key': 0,\n",
              "  'type': NVARCHAR(length=40)},\n",
              " {'autoincrement': 'auto',\n",
              "  'default': None,\n",
              "  'name': 'PostalCode',\n",
              "  'nullable': True,\n",
              "  'primary_key': 0,\n",
              "  'type': NVARCHAR(length=10)},\n",
              " {'autoincrement': 'auto',\n",
              "  'default': None,\n",
              "  'name': 'Phone',\n",
              "  'nullable': True,\n",
              "  'primary_key': 0,\n",
              "  'type': NVARCHAR(length=24)},\n",
              " {'autoincrement': 'auto',\n",
              "  'default': None,\n",
              "  'name': 'Fax',\n",
              "  'nullable': True,\n",
              "  'primary_key': 0,\n",
              "  'type': NVARCHAR(length=24)},\n",
              " {'autoincrement': 'auto',\n",
              "  'default': None,\n",
              "  'name': 'Email',\n",
              "  'nullable': False,\n",
              "  'primary_key': 0,\n",
              "  'type': NVARCHAR(length=60)},\n",
              " {'autoincrement': 'auto',\n",
              "  'default': None,\n",
              "  'name': 'SupportRepId',\n",
              "  'nullable': True,\n",
              "  'primary_key': 0,\n",
              "  'type': INTEGER()}]"
            ]
          },
          "metadata": {},
          "execution_count": 28
        }
      ],
      "source": [
        "# SQL Expression Language crea metadatos que contienen objetos que definen la tabla de datos.\n",
        "metadata = MetaData()\n",
        "\n",
        "# Este método instancia las tablas que ya\n",
        "# existe en la base de datos, a la que está conectado el motor.\n",
        "metadata.create_all(engine)\n",
        "\n",
        "# Revisando esto, podemos ver la estructura de la tabla y los tipos de variables para la tabla de datos.\n",
        "inspector = inspect(engine)\n",
        "\n",
        "#Revisé las columnas en la tabla. \n",
        "inspector.get_columns('customers')"
      ]
    },
    {
      "cell_type": "markdown",
      "id": "5f430806",
      "metadata": {
        "id": "5f430806"
      },
      "source": [
        "# Transform"
      ]
    },
    {
      "cell_type": "code",
      "execution_count": null,
      "id": "6b5a762a",
      "metadata": {
        "colab": {
          "base_uri": "https://localhost:8080/"
        },
        "id": "6b5a762a",
        "outputId": "61233384-b335-4ad3-946b-661ab5f667ca"
      },
      "outputs": [
        {
          "output_type": "stream",
          "name": "stdout",
          "text": [
            "(1, 'Luís', 'Gonçalves', 'Embraer - Empresa Brasileira de Aeronáutica S.A.', 'Av. Brigadeiro Faria Lima, 2170', 'São José dos Campos', 'SP', 'Brazil', '12227-000', '+55 (12) 3923-5555', '+55 (12) 3923-5566', 'luisg@embraer.com.br', 3)\n",
            "(2, 'Leonie', 'Köhler', None, 'Theodor-Heuss-Straße 34', 'Stuttgart', None, 'Germany', '70174', '+49 0711 2842222', None, 'leonekohler@surfeu.de', 5)\n",
            "(3, 'François', 'Tremblay', None, '1498 rue Bélanger', 'Montréal', 'QC', 'Canada', 'H2G 1A7', '+1 (514) 721-4711', None, 'ftremblay@gmail.com', 3)\n",
            "(4, 'Bjørn', 'Hansen', None, 'Ullevålsveien 14', 'Oslo', None, 'Norway', '0171', '+47 22 44 22 22', None, 'bjorn.hansen@yahoo.no', 4)\n",
            "(5, 'František', 'Wichterlová', 'JetBrains s.r.o.', 'Klanova 9/506', 'Prague', None, 'Czech Republic', '14700', '+420 2 4172 5555', '+420 2 4172 5555', 'frantisekw@jetbrains.com', 4)\n",
            "(6, 'Helena', 'Holý', None, 'Rilská 3174/6', 'Prague', None, 'Czech Republic', '14300', '+420 2 4177 0449', None, 'hholy@gmail.com', 5)\n",
            "(7, 'Astrid', 'Gruber', None, 'Rotenturmstraße 4, 1010 Innere Stadt', 'Vienne', None, 'Austria', '1010', '+43 01 5134505', None, 'astrid.gruber@apple.at', 5)\n",
            "(8, 'Daan', 'Peeters', None, 'Grétrystraat 63', 'Brussels', None, 'Belgium', '1000', '+32 02 219 03 03', None, 'daan_peeters@apple.be', 4)\n",
            "(9, 'Kara', 'Nielsen', None, 'Sønder Boulevard 51', 'Copenhagen', None, 'Denmark', '1720', '+453 3331 9991', None, 'kara.nielsen@jubii.dk', 4)\n",
            "(10, 'Eduardo', 'Martins', 'Woodstock Discos', 'Rua Dr. Falcão Filho, 155', 'São Paulo', 'SP', 'Brazil', '01007-010', '+55 (11) 3033-5446', '+55 (11) 3033-4564', 'eduardo@woodstock.com.br', 4)\n",
            "(11, 'Alexandre', 'Rocha', 'Banco do Brasil S.A.', 'Av. Paulista, 2022', 'São Paulo', 'SP', 'Brazil', '01310-200', '+55 (11) 3055-3278', '+55 (11) 3055-8131', 'alero@uol.com.br', 5)\n",
            "(12, 'Roberto', 'Almeida', 'Riotur', 'Praça Pio X, 119', 'Rio de Janeiro', 'RJ', 'Brazil', '20040-020', '+55 (21) 2271-7000', '+55 (21) 2271-7070', 'roberto.almeida@riotur.gov.br', 3)\n",
            "(13, 'Fernanda', 'Ramos', None, 'Qe 7 Bloco G', 'Brasília', 'DF', 'Brazil', '71020-677', '+55 (61) 3363-5547', '+55 (61) 3363-7855', 'fernadaramos4@uol.com.br', 4)\n",
            "(14, 'Mark', 'Philips', 'Telus', '8210 111 ST NW', 'Edmonton', 'AB', 'Canada', 'T6G 2C7', '+1 (780) 434-4554', '+1 (780) 434-5565', 'mphilips12@shaw.ca', 5)\n",
            "(15, 'Jennifer', 'Peterson', 'Rogers Canada', '700 W Pender Street', 'Vancouver', 'BC', 'Canada', 'V6C 1G8', '+1 (604) 688-2255', '+1 (604) 688-8756', 'jenniferp@rogers.ca', 3)\n",
            "(16, 'Frank', 'Harris', 'Google Inc.', '1600 Amphitheatre Parkway', 'Mountain View', 'CA', 'USA', '94043-1351', '+1 (650) 253-0000', '+1 (650) 253-0000', 'fharris@google.com', 4)\n",
            "(17, 'Jack', 'Smith', 'Microsoft Corporation', '1 Microsoft Way', 'Redmond', 'WA', 'USA', '98052-8300', '+1 (425) 882-8080', '+1 (425) 882-8081', 'jacksmith@microsoft.com', 5)\n",
            "(18, 'Michelle', 'Brooks', None, '627 Broadway', 'New York', 'NY', 'USA', '10012-2612', '+1 (212) 221-3546', '+1 (212) 221-4679', 'michelleb@aol.com', 3)\n",
            "(19, 'Tim', 'Goyer', 'Apple Inc.', '1 Infinite Loop', 'Cupertino', 'CA', 'USA', '95014', '+1 (408) 996-1010', '+1 (408) 996-1011', 'tgoyer@apple.com', 3)\n",
            "(20, 'Dan', 'Miller', None, '541 Del Medio Avenue', 'Mountain View', 'CA', 'USA', '94040-111', '+1 (650) 644-3358', None, 'dmiller@comcast.com', 4)\n",
            "(21, 'Kathy', 'Chase', None, '801 W 4th Street', 'Reno', 'NV', 'USA', '89503', '+1 (775) 223-7665', None, 'kachase@hotmail.com', 5)\n",
            "(22, 'Heather', 'Leacock', None, '120 S Orange Ave', 'Orlando', 'FL', 'USA', '32801', '+1 (407) 999-7788', None, 'hleacock@gmail.com', 4)\n",
            "(23, 'John', 'Gordon', None, '69 Salem Street', 'Boston', 'MA', 'USA', '2113', '+1 (617) 522-1333', None, 'johngordon22@yahoo.com', 4)\n",
            "(24, 'Frank', 'Ralston', None, '162 E Superior Street', 'Chicago', 'IL', 'USA', '60611', '+1 (312) 332-3232', None, 'fralston@gmail.com', 3)\n",
            "(25, 'Victor', 'Stevens', None, '319 N. Frances Street', 'Madison', 'WI', 'USA', '53703', '+1 (608) 257-0597', None, 'vstevens@yahoo.com', 5)\n",
            "(26, 'Richard', 'Cunningham', None, '2211 W Berry Street', 'Fort Worth', 'TX', 'USA', '76110', '+1 (817) 924-7272', None, 'ricunningham@hotmail.com', 4)\n",
            "(27, 'Patrick', 'Gray', None, '1033 N Park Ave', 'Tucson', 'AZ', 'USA', '85719', '+1 (520) 622-4200', None, 'patrick.gray@aol.com', 4)\n",
            "(28, 'Julia', 'Barnett', None, '302 S 700 E', 'Salt Lake City', 'UT', 'USA', '84102', '+1 (801) 531-7272', None, 'jubarnett@gmail.com', 5)\n",
            "(29, 'Robert', 'Brown', None, '796 Dundas Street West', 'Toronto', 'ON', 'Canada', 'M6J 1V1', '+1 (416) 363-8888', None, 'robbrown@shaw.ca', 3)\n",
            "(30, 'Edward', 'Francis', None, '230 Elgin Street', 'Ottawa', 'ON', 'Canada', 'K2P 1L7', '+1 (613) 234-3322', None, 'edfrancis@yachoo.ca', 3)\n",
            "(31, 'Martha', 'Silk', None, '194A Chain Lake Drive', 'Halifax', 'NS', 'Canada', 'B3S 1C5', '+1 (902) 450-0450', None, 'marthasilk@gmail.com', 5)\n",
            "(32, 'Aaron', 'Mitchell', None, '696 Osborne Street', 'Winnipeg', 'MB', 'Canada', 'R3L 2B9', '+1 (204) 452-6452', None, 'aaronmitchell@yahoo.ca', 4)\n",
            "(33, 'Ellie', 'Sullivan', None, '5112 48 Street', 'Yellowknife', 'NT', 'Canada', 'X1A 1N6', '+1 (867) 920-2233', None, 'ellie.sullivan@shaw.ca', 3)\n",
            "(34, 'João', 'Fernandes', None, 'Rua da Assunção 53', 'Lisbon', None, 'Portugal', None, '+351 (213) 466-111', None, 'jfernandes@yahoo.pt', 4)\n",
            "(35, 'Madalena', 'Sampaio', None, 'Rua dos Campeões Europeus de Viena, 4350', 'Porto', None, 'Portugal', None, '+351 (225) 022-448', None, 'masampaio@sapo.pt', 4)\n",
            "(36, 'Hannah', 'Schneider', None, 'Tauentzienstraße 8', 'Berlin', None, 'Germany', '10789', '+49 030 26550280', None, 'hannah.schneider@yahoo.de', 5)\n",
            "(37, 'Fynn', 'Zimmermann', None, 'Berger Straße 10', 'Frankfurt', None, 'Germany', '60316', '+49 069 40598889', None, 'fzimmermann@yahoo.de', 3)\n",
            "(38, 'Niklas', 'Schröder', None, 'Barbarossastraße 19', 'Berlin', None, 'Germany', '10779', '+49 030 2141444', None, 'nschroder@surfeu.de', 3)\n",
            "(39, 'Camille', 'Bernard', None, '4, Rue Milton', 'Paris', None, 'France', '75009', '+33 01 49 70 65 65', None, 'camille.bernard@yahoo.fr', 4)\n",
            "(40, 'Dominique', 'Lefebvre', None, '8, Rue Hanovre', 'Paris', None, 'France', '75002', '+33 01 47 42 71 71', None, 'dominiquelefebvre@gmail.com', 4)\n",
            "(41, 'Marc', 'Dubois', None, '11, Place Bellecour', 'Lyon', None, 'France', '69002', '+33 04 78 30 30 30', None, 'marc.dubois@hotmail.com', 5)\n",
            "(42, 'Wyatt', 'Girard', None, '9, Place Louis Barthou', 'Bordeaux', None, 'France', '33000', '+33 05 56 96 96 96', None, 'wyatt.girard@yahoo.fr', 3)\n",
            "(43, 'Isabelle', 'Mercier', None, '68, Rue Jouvence', 'Dijon', None, 'France', '21000', '+33 03 80 73 66 99', None, 'isabelle_mercier@apple.fr', 3)\n",
            "(44, 'Terhi', 'Hämäläinen', None, 'Porthaninkatu 9', 'Helsinki', None, 'Finland', '00530', '+358 09 870 2000', None, 'terhi.hamalainen@apple.fi', 3)\n",
            "(45, 'Ladislav', 'Kovács', None, 'Erzsébet krt. 58.', 'Budapest', None, 'Hungary', 'H-1073', None, None, 'ladislav_kovacs@apple.hu', 3)\n",
            "(46, 'Hugh', \"O'Reilly\", None, '3 Chatham Street', 'Dublin', 'Dublin', 'Ireland', None, '+353 01 6792424', None, 'hughoreilly@apple.ie', 3)\n",
            "(47, 'Lucas', 'Mancini', None, 'Via Degli Scipioni, 43', 'Rome', 'RM', 'Italy', '00192', '+39 06 39733434', None, 'lucas.mancini@yahoo.it', 5)\n",
            "(48, 'Johannes', 'Van der Berg', None, 'Lijnbaansgracht 120bg', 'Amsterdam', 'VV', 'Netherlands', '1016', '+31 020 6223130', None, 'johavanderberg@yahoo.nl', 5)\n",
            "(49, 'Stanisław', 'Wójcik', None, 'Ordynacka 10', 'Warsaw', None, 'Poland', '00-358', '+48 22 828 37 39', None, 'stanisław.wójcik@wp.pl', 4)\n",
            "(50, 'Enrique', 'Muñoz', None, 'C/ San Bernardo 85', 'Madrid', None, 'Spain', '28015', '+34 914 454 454', None, 'enrique_munoz@yahoo.es', 5)\n",
            "(51, 'Joakim', 'Johansson', None, 'Celsiusg. 9', 'Stockholm', None, 'Sweden', '11230', '+46 08-651 52 52', None, 'joakim.johansson@yahoo.se', 5)\n",
            "(52, 'Emma', 'Jones', None, '202 Hoxton Street', 'London', None, 'United Kingdom', 'N1 5LH', '+44 020 7707 0707', None, 'emma_jones@hotmail.com', 3)\n",
            "(53, 'Phil', 'Hughes', None, '113 Lupus St', 'London', None, 'United Kingdom', 'SW1V 3EN', '+44 020 7976 5722', None, 'phil.hughes@gmail.com', 3)\n",
            "(54, 'Steve', 'Murray', None, '110 Raeburn Pl', 'Edinburgh ', None, 'United Kingdom', 'EH4 1HH', '+44 0131 315 3300', None, 'steve.murray@yahoo.uk', 5)\n",
            "(55, 'Mark', 'Taylor', None, '421 Bourke Street', 'Sidney', 'NSW', 'Australia', '2010', '+61 (02) 9332 3633', None, 'mark.taylor@yahoo.au', 4)\n",
            "(56, 'Diego', 'Gutiérrez', None, '307 Macacha Güemes', 'Buenos Aires', None, 'Argentina', '1106', '+54 (0)11 4311 4333', None, 'diego.gutierrez@yahoo.ar', 4)\n",
            "(57, 'Luis', 'Rojas', None, 'Calle Lira, 198', 'Santiago', None, 'Chile', None, '+56 (0)2 635 4444', None, 'luisrojas@yahoo.cl', 5)\n",
            "(58, 'Manoj', 'Pareek', None, '12,Community Centre', 'Delhi', None, 'India', '110017', '+91 0124 39883988', None, 'manoj.pareek@rediff.com', 3)\n",
            "(59, 'Puja', 'Srivastava', None, '3,Raj Bhavan Road', 'Bangalore', None, 'India', '560001', '+91 080 22289999', None, 'puja_srivastava@yahoo.in', 3)\n"
          ]
        }
      ],
      "source": [
        "#seleccionar todos los campos de la tabla.\n",
        "\n",
        "# Ejecutemos SQL sin procesar en algunas tablas usando SQLAlchemy\n",
        "with engine.connect() as con:\n",
        "    \n",
        "    rs = con.execute('select * from customers')\n",
        "    \n",
        "    for row in rs:\n",
        "        print(row)\n",
        "# No olvide cerrar su conexión a la base de datos cuando finalice la consulta\n",
        "con.close()\n",
        "\n",
        "# Nota: Use LIMIT n para limitar el número de filas devueltas. No hay problema con esta pequeña mesa.\n"
      ]
    },
    {
      "cell_type": "code",
      "execution_count": null,
      "id": "6549e49e",
      "metadata": {
        "id": "6549e49e"
      },
      "outputs": [],
      "source": [
        "# Remplazo de valores NULL a NA.\n",
        "\n",
        "with engine.connect() as con:\n",
        "    \n",
        "    rs = con.execute(\"\"\"SELECT CustomerId,FirstName,LastName,\n",
        "       CASE\n",
        "           WHEN Company is NOT NULL then Company\n",
        "       ELSE 'NA'\n",
        "       END\n",
        "       Company,Address,City,\n",
        "       CASE\n",
        "           WHEN State is NOT NULL then State\n",
        "       ELSE 'NA'\n",
        "        END\n",
        "       State,Country,\n",
        "       CASE\n",
        "           WHEN PostalCode is NOT NULL then PostalCode\n",
        "       ELSE 'NA'\n",
        "        END\n",
        "       PostalCode,\n",
        "       Phone,\n",
        "        CASE\n",
        "           WHEN Fax is NOT NULL then Fax\n",
        "       ELSE 'NA'\n",
        "        END\n",
        "       Fax,Email\n",
        "      \n",
        "  FROM customers;\"\"\")\n",
        "        \n",
        "con.close()\n"
      ]
    },
    {
      "cell_type": "code",
      "source": [
        "# Does their length of tenure map to how many customers they helped?\n",
        "with engine.connect() as con:\n",
        "    \n",
        "    rs = con.execute(\"\"\"SELECT CustomerId,FirstName,LastName,\n",
        "       CASE\n",
        "           WHEN Company is NOT NULL then Company\n",
        "       ELSE 'NA'\n",
        "       END\n",
        "       Company,Address,City,\n",
        "       CASE\n",
        "           WHEN State is NOT NULL then State\n",
        "       ELSE 'NA'\n",
        "        END\n",
        "       State,Country,\n",
        "       CASE\n",
        "           WHEN PostalCode is NOT NULL then PostalCode\n",
        "       ELSE 'NA'\n",
        "        END\n",
        "       PostalCode,\n",
        "       Phone,\n",
        "        CASE\n",
        "           WHEN Fax is NOT NULL then Fax\n",
        "       ELSE 'NA'\n",
        "        END\n",
        "       Fax,Email\n",
        "      \n",
        "  FROM customers;\"\"\")\n",
        "    \n",
        "    for row in rs:\n",
        "        print(row)\n",
        "        \n",
        "con.close()"
      ],
      "metadata": {
        "colab": {
          "base_uri": "https://localhost:8080/"
        },
        "id": "p36NqP1Ojv8b",
        "outputId": "cd2fc2f2-3e34-473d-dae7-009ede6ac8f5"
      },
      "id": "p36NqP1Ojv8b",
      "execution_count": null,
      "outputs": [
        {
          "output_type": "stream",
          "name": "stdout",
          "text": [
            "(1, 'Luís', 'Gonçalves', 'Embraer - Empresa Brasileira de Aeronáutica S.A.', 'Av. Brigadeiro Faria Lima, 2170', 'São José dos Campos', 'SP', 'Brazil', '12227-000', '+55 (12) 3923-5555', '+55 (12) 3923-5566', 'luisg@embraer.com.br')\n",
            "(2, 'Leonie', 'Köhler', 'NA', 'Theodor-Heuss-Straße 34', 'Stuttgart', 'NA', 'Germany', '70174', '+49 0711 2842222', 'NA', 'leonekohler@surfeu.de')\n",
            "(3, 'François', 'Tremblay', 'NA', '1498 rue Bélanger', 'Montréal', 'QC', 'Canada', 'H2G 1A7', '+1 (514) 721-4711', 'NA', 'ftremblay@gmail.com')\n",
            "(4, 'Bjørn', 'Hansen', 'NA', 'Ullevålsveien 14', 'Oslo', 'NA', 'Norway', '0171', '+47 22 44 22 22', 'NA', 'bjorn.hansen@yahoo.no')\n",
            "(5, 'František', 'Wichterlová', 'JetBrains s.r.o.', 'Klanova 9/506', 'Prague', 'NA', 'Czech Republic', '14700', '+420 2 4172 5555', '+420 2 4172 5555', 'frantisekw@jetbrains.com')\n",
            "(6, 'Helena', 'Holý', 'NA', 'Rilská 3174/6', 'Prague', 'NA', 'Czech Republic', '14300', '+420 2 4177 0449', 'NA', 'hholy@gmail.com')\n",
            "(7, 'Astrid', 'Gruber', 'NA', 'Rotenturmstraße 4, 1010 Innere Stadt', 'Vienne', 'NA', 'Austria', '1010', '+43 01 5134505', 'NA', 'astrid.gruber@apple.at')\n",
            "(8, 'Daan', 'Peeters', 'NA', 'Grétrystraat 63', 'Brussels', 'NA', 'Belgium', '1000', '+32 02 219 03 03', 'NA', 'daan_peeters@apple.be')\n",
            "(9, 'Kara', 'Nielsen', 'NA', 'Sønder Boulevard 51', 'Copenhagen', 'NA', 'Denmark', '1720', '+453 3331 9991', 'NA', 'kara.nielsen@jubii.dk')\n",
            "(10, 'Eduardo', 'Martins', 'Woodstock Discos', 'Rua Dr. Falcão Filho, 155', 'São Paulo', 'SP', 'Brazil', '01007-010', '+55 (11) 3033-5446', '+55 (11) 3033-4564', 'eduardo@woodstock.com.br')\n",
            "(11, 'Alexandre', 'Rocha', 'Banco do Brasil S.A.', 'Av. Paulista, 2022', 'São Paulo', 'SP', 'Brazil', '01310-200', '+55 (11) 3055-3278', '+55 (11) 3055-8131', 'alero@uol.com.br')\n",
            "(12, 'Roberto', 'Almeida', 'Riotur', 'Praça Pio X, 119', 'Rio de Janeiro', 'RJ', 'Brazil', '20040-020', '+55 (21) 2271-7000', '+55 (21) 2271-7070', 'roberto.almeida@riotur.gov.br')\n",
            "(13, 'Fernanda', 'Ramos', 'NA', 'Qe 7 Bloco G', 'Brasília', 'DF', 'Brazil', '71020-677', '+55 (61) 3363-5547', '+55 (61) 3363-7855', 'fernadaramos4@uol.com.br')\n",
            "(14, 'Mark', 'Philips', 'Telus', '8210 111 ST NW', 'Edmonton', 'AB', 'Canada', 'T6G 2C7', '+1 (780) 434-4554', '+1 (780) 434-5565', 'mphilips12@shaw.ca')\n",
            "(15, 'Jennifer', 'Peterson', 'Rogers Canada', '700 W Pender Street', 'Vancouver', 'BC', 'Canada', 'V6C 1G8', '+1 (604) 688-2255', '+1 (604) 688-8756', 'jenniferp@rogers.ca')\n",
            "(16, 'Frank', 'Harris', 'Google Inc.', '1600 Amphitheatre Parkway', 'Mountain View', 'CA', 'USA', '94043-1351', '+1 (650) 253-0000', '+1 (650) 253-0000', 'fharris@google.com')\n",
            "(17, 'Jack', 'Smith', 'Microsoft Corporation', '1 Microsoft Way', 'Redmond', 'WA', 'USA', '98052-8300', '+1 (425) 882-8080', '+1 (425) 882-8081', 'jacksmith@microsoft.com')\n",
            "(18, 'Michelle', 'Brooks', 'NA', '627 Broadway', 'New York', 'NY', 'USA', '10012-2612', '+1 (212) 221-3546', '+1 (212) 221-4679', 'michelleb@aol.com')\n",
            "(19, 'Tim', 'Goyer', 'Apple Inc.', '1 Infinite Loop', 'Cupertino', 'CA', 'USA', '95014', '+1 (408) 996-1010', '+1 (408) 996-1011', 'tgoyer@apple.com')\n",
            "(20, 'Dan', 'Miller', 'NA', '541 Del Medio Avenue', 'Mountain View', 'CA', 'USA', '94040-111', '+1 (650) 644-3358', 'NA', 'dmiller@comcast.com')\n",
            "(21, 'Kathy', 'Chase', 'NA', '801 W 4th Street', 'Reno', 'NV', 'USA', '89503', '+1 (775) 223-7665', 'NA', 'kachase@hotmail.com')\n",
            "(22, 'Heather', 'Leacock', 'NA', '120 S Orange Ave', 'Orlando', 'FL', 'USA', '32801', '+1 (407) 999-7788', 'NA', 'hleacock@gmail.com')\n",
            "(23, 'John', 'Gordon', 'NA', '69 Salem Street', 'Boston', 'MA', 'USA', '2113', '+1 (617) 522-1333', 'NA', 'johngordon22@yahoo.com')\n",
            "(24, 'Frank', 'Ralston', 'NA', '162 E Superior Street', 'Chicago', 'IL', 'USA', '60611', '+1 (312) 332-3232', 'NA', 'fralston@gmail.com')\n",
            "(25, 'Victor', 'Stevens', 'NA', '319 N. Frances Street', 'Madison', 'WI', 'USA', '53703', '+1 (608) 257-0597', 'NA', 'vstevens@yahoo.com')\n",
            "(26, 'Richard', 'Cunningham', 'NA', '2211 W Berry Street', 'Fort Worth', 'TX', 'USA', '76110', '+1 (817) 924-7272', 'NA', 'ricunningham@hotmail.com')\n",
            "(27, 'Patrick', 'Gray', 'NA', '1033 N Park Ave', 'Tucson', 'AZ', 'USA', '85719', '+1 (520) 622-4200', 'NA', 'patrick.gray@aol.com')\n",
            "(28, 'Julia', 'Barnett', 'NA', '302 S 700 E', 'Salt Lake City', 'UT', 'USA', '84102', '+1 (801) 531-7272', 'NA', 'jubarnett@gmail.com')\n",
            "(29, 'Robert', 'Brown', 'NA', '796 Dundas Street West', 'Toronto', 'ON', 'Canada', 'M6J 1V1', '+1 (416) 363-8888', 'NA', 'robbrown@shaw.ca')\n",
            "(30, 'Edward', 'Francis', 'NA', '230 Elgin Street', 'Ottawa', 'ON', 'Canada', 'K2P 1L7', '+1 (613) 234-3322', 'NA', 'edfrancis@yachoo.ca')\n",
            "(31, 'Martha', 'Silk', 'NA', '194A Chain Lake Drive', 'Halifax', 'NS', 'Canada', 'B3S 1C5', '+1 (902) 450-0450', 'NA', 'marthasilk@gmail.com')\n",
            "(32, 'Aaron', 'Mitchell', 'NA', '696 Osborne Street', 'Winnipeg', 'MB', 'Canada', 'R3L 2B9', '+1 (204) 452-6452', 'NA', 'aaronmitchell@yahoo.ca')\n",
            "(33, 'Ellie', 'Sullivan', 'NA', '5112 48 Street', 'Yellowknife', 'NT', 'Canada', 'X1A 1N6', '+1 (867) 920-2233', 'NA', 'ellie.sullivan@shaw.ca')\n",
            "(34, 'João', 'Fernandes', 'NA', 'Rua da Assunção 53', 'Lisbon', 'NA', 'Portugal', 'NA', '+351 (213) 466-111', 'NA', 'jfernandes@yahoo.pt')\n",
            "(35, 'Madalena', 'Sampaio', 'NA', 'Rua dos Campeões Europeus de Viena, 4350', 'Porto', 'NA', 'Portugal', 'NA', '+351 (225) 022-448', 'NA', 'masampaio@sapo.pt')\n",
            "(36, 'Hannah', 'Schneider', 'NA', 'Tauentzienstraße 8', 'Berlin', 'NA', 'Germany', '10789', '+49 030 26550280', 'NA', 'hannah.schneider@yahoo.de')\n",
            "(37, 'Fynn', 'Zimmermann', 'NA', 'Berger Straße 10', 'Frankfurt', 'NA', 'Germany', '60316', '+49 069 40598889', 'NA', 'fzimmermann@yahoo.de')\n",
            "(38, 'Niklas', 'Schröder', 'NA', 'Barbarossastraße 19', 'Berlin', 'NA', 'Germany', '10779', '+49 030 2141444', 'NA', 'nschroder@surfeu.de')\n",
            "(39, 'Camille', 'Bernard', 'NA', '4, Rue Milton', 'Paris', 'NA', 'France', '75009', '+33 01 49 70 65 65', 'NA', 'camille.bernard@yahoo.fr')\n",
            "(40, 'Dominique', 'Lefebvre', 'NA', '8, Rue Hanovre', 'Paris', 'NA', 'France', '75002', '+33 01 47 42 71 71', 'NA', 'dominiquelefebvre@gmail.com')\n",
            "(41, 'Marc', 'Dubois', 'NA', '11, Place Bellecour', 'Lyon', 'NA', 'France', '69002', '+33 04 78 30 30 30', 'NA', 'marc.dubois@hotmail.com')\n",
            "(42, 'Wyatt', 'Girard', 'NA', '9, Place Louis Barthou', 'Bordeaux', 'NA', 'France', '33000', '+33 05 56 96 96 96', 'NA', 'wyatt.girard@yahoo.fr')\n",
            "(43, 'Isabelle', 'Mercier', 'NA', '68, Rue Jouvence', 'Dijon', 'NA', 'France', '21000', '+33 03 80 73 66 99', 'NA', 'isabelle_mercier@apple.fr')\n",
            "(44, 'Terhi', 'Hämäläinen', 'NA', 'Porthaninkatu 9', 'Helsinki', 'NA', 'Finland', '00530', '+358 09 870 2000', 'NA', 'terhi.hamalainen@apple.fi')\n",
            "(45, 'Ladislav', 'Kovács', 'NA', 'Erzsébet krt. 58.', 'Budapest', 'NA', 'Hungary', 'H-1073', None, 'NA', 'ladislav_kovacs@apple.hu')\n",
            "(46, 'Hugh', \"O'Reilly\", 'NA', '3 Chatham Street', 'Dublin', 'Dublin', 'Ireland', 'NA', '+353 01 6792424', 'NA', 'hughoreilly@apple.ie')\n",
            "(47, 'Lucas', 'Mancini', 'NA', 'Via Degli Scipioni, 43', 'Rome', 'RM', 'Italy', '00192', '+39 06 39733434', 'NA', 'lucas.mancini@yahoo.it')\n",
            "(48, 'Johannes', 'Van der Berg', 'NA', 'Lijnbaansgracht 120bg', 'Amsterdam', 'VV', 'Netherlands', '1016', '+31 020 6223130', 'NA', 'johavanderberg@yahoo.nl')\n",
            "(49, 'Stanisław', 'Wójcik', 'NA', 'Ordynacka 10', 'Warsaw', 'NA', 'Poland', '00-358', '+48 22 828 37 39', 'NA', 'stanisław.wójcik@wp.pl')\n",
            "(50, 'Enrique', 'Muñoz', 'NA', 'C/ San Bernardo 85', 'Madrid', 'NA', 'Spain', '28015', '+34 914 454 454', 'NA', 'enrique_munoz@yahoo.es')\n",
            "(51, 'Joakim', 'Johansson', 'NA', 'Celsiusg. 9', 'Stockholm', 'NA', 'Sweden', '11230', '+46 08-651 52 52', 'NA', 'joakim.johansson@yahoo.se')\n",
            "(52, 'Emma', 'Jones', 'NA', '202 Hoxton Street', 'London', 'NA', 'United Kingdom', 'N1 5LH', '+44 020 7707 0707', 'NA', 'emma_jones@hotmail.com')\n",
            "(53, 'Phil', 'Hughes', 'NA', '113 Lupus St', 'London', 'NA', 'United Kingdom', 'SW1V 3EN', '+44 020 7976 5722', 'NA', 'phil.hughes@gmail.com')\n",
            "(54, 'Steve', 'Murray', 'NA', '110 Raeburn Pl', 'Edinburgh ', 'NA', 'United Kingdom', 'EH4 1HH', '+44 0131 315 3300', 'NA', 'steve.murray@yahoo.uk')\n",
            "(55, 'Mark', 'Taylor', 'NA', '421 Bourke Street', 'Sidney', 'NSW', 'Australia', '2010', '+61 (02) 9332 3633', 'NA', 'mark.taylor@yahoo.au')\n",
            "(56, 'Diego', 'Gutiérrez', 'NA', '307 Macacha Güemes', 'Buenos Aires', 'NA', 'Argentina', '1106', '+54 (0)11 4311 4333', 'NA', 'diego.gutierrez@yahoo.ar')\n",
            "(57, 'Luis', 'Rojas', 'NA', 'Calle Lira, 198', 'Santiago', 'NA', 'Chile', 'NA', '+56 (0)2 635 4444', 'NA', 'luisrojas@yahoo.cl')\n",
            "(58, 'Manoj', 'Pareek', 'NA', '12,Community Centre', 'Delhi', 'NA', 'India', '110017', '+91 0124 39883988', 'NA', 'manoj.pareek@rediff.com')\n",
            "(59, 'Puja', 'Srivastava', 'NA', '3,Raj Bhavan Road', 'Bangalore', 'NA', 'India', '560001', '+91 080 22289999', 'NA', 'puja_srivastava@yahoo.in')\n"
          ]
        }
      ]
    },
    {
      "cell_type": "markdown",
      "id": "2ecbf5c8",
      "metadata": {
        "id": "2ecbf5c8"
      },
      "source": [
        "# Load"
      ]
    },
    {
      "cell_type": "code",
      "execution_count": null,
      "id": "e0c704b0",
      "metadata": {
        "id": "e0c704b0"
      },
      "outputs": [],
      "source": [
        "#Cargar a última query. Aquí debe utilizar un objeto dataframe\n",
        "import pandas as pd\n",
        "df = pd.read_sql_query(\"\"\"SELECT CustomerId,FirstName,LastName,\n",
        "       CASE\n",
        "           WHEN Company is NOT NULL then Company\n",
        "       ELSE 'NA'\n",
        "       END\n",
        "       Company,Address,City,\n",
        "       CASE\n",
        "           WHEN State is NOT NULL then State\n",
        "       ELSE 'NA'\n",
        "        END\n",
        "       State,Country,\n",
        "       CASE\n",
        "           WHEN PostalCode is NOT NULL then PostalCode\n",
        "       ELSE 'NA'\n",
        "        END\n",
        "       PostalCode,\n",
        "       Phone,\n",
        "        CASE\n",
        "           WHEN Fax is NOT NULL then Fax\n",
        "       ELSE 'NA'\n",
        "        END\n",
        "       Fax,Email\n",
        "      \n",
        "  FROM customers;\"\"\", con=engine.connect())\n"
      ]
    },
    {
      "cell_type": "code",
      "execution_count": null,
      "id": "8e1eb443",
      "metadata": {
        "id": "8e1eb443"
      },
      "outputs": [],
      "source": [
        "#Exportar el archivo en un formato a su elección.\n",
        "df.to_csv('dimCustomer.csv')\n"
      ]
    }
  ],
  "metadata": {
    "kernelspec": {
      "display_name": "Python 3",
      "language": "python",
      "name": "python3"
    },
    "language_info": {
      "codemirror_mode": {
        "name": "ipython",
        "version": 3
      },
      "file_extension": ".py",
      "mimetype": "text/x-python",
      "name": "python",
      "nbconvert_exporter": "python",
      "pygments_lexer": "ipython3",
      "version": "3.6.10"
    },
    "colab": {
      "name": "[NRC_8903]_JeffersonGuamán_Lab1_ETL.ipynb",
      "provenance": [],
      "collapsed_sections": []
    }
  },
  "nbformat": 4,
  "nbformat_minor": 5
}