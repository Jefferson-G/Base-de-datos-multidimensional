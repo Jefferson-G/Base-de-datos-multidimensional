{
  "cells": [
    {
      "cell_type": "code",
      "execution_count": 30,
      "id": "897f6b27",
      "metadata": {
        "id": "897f6b27"
      },
      "outputs": [],
      "source": [
        "#librerias\n",
        "import sqlalchemy\n",
        "from sqlalchemy import create_engine\n",
        "from sqlalchemy import Table, Column, Integer, String, MetaData, ForeignKey\n",
        "from sqlalchemy import inspect"
      ]
    },
    {
      "cell_type": "code",
      "execution_count": 31,
      "id": "4ebe951f",
      "metadata": {
        "colab": {
          "base_uri": "https://localhost:8080/"
        },
        "id": "4ebe951f",
        "outputId": "fcfaeac3-5cb1-4c64-9bd5-a0c1300572c9"
      },
      "outputs": [
        {
          "output_type": "execute_result",
          "data": {
            "text/plain": [
              "Engine(sqlite:///chinook.db)"
            ]
          },
          "metadata": {},
          "execution_count": 31
        }
      ],
      "source": [
        "#Conectar el motor al archivo de la base de datos a usar\n",
        "engine = create_engine('sqlite:///chinook.db')\n",
        "engine"
      ]
    },
    {
      "cell_type": "markdown",
      "id": "cc08b636",
      "metadata": {
        "id": "cc08b636"
      },
      "source": [
        "# Extract"
      ]
    },
    {
      "cell_type": "code",
      "execution_count": 32,
      "id": "3878f188",
      "metadata": {
        "colab": {
          "base_uri": "https://localhost:8080/"
        },
        "id": "3878f188",
        "outputId": "26aee257-cc91-42e5-d2b8-89008732d458"
      },
      "outputs": [
        {
          "output_type": "execute_result",
          "data": {
            "text/plain": [
              "[{'autoincrement': 'auto',\n",
              "  'default': None,\n",
              "  'name': 'GenreId',\n",
              "  'nullable': False,\n",
              "  'primary_key': 1,\n",
              "  'type': INTEGER()},\n",
              " {'autoincrement': 'auto',\n",
              "  'default': None,\n",
              "  'name': 'Name',\n",
              "  'nullable': True,\n",
              "  'primary_key': 0,\n",
              "  'type': NVARCHAR(length=120)}]"
            ]
          },
          "metadata": {},
          "execution_count": 32
        }
      ],
      "source": [
        "# SQL Expression Language crea metadatos que contienen objetos que definen la tabla de datos.\n",
        "metadata = MetaData()\n",
        "\n",
        "# Este método instancia las tablas que ya\n",
        "# existe en la base de datos, a la que está conectado el motor.\n",
        "metadata.create_all(engine)\n",
        "\n",
        "# Revisando esto, podemos ver la estructura de la tabla y los tipos de variables para la tabla de datos.\n",
        "inspector = inspect(engine)\n",
        "\n",
        "#Revisé las columnas en la tabla. \n",
        "inspector.get_columns('genres')"
      ]
    },
    {
      "cell_type": "markdown",
      "id": "5f430806",
      "metadata": {
        "id": "5f430806"
      },
      "source": [
        "# Transform"
      ]
    },
    {
      "cell_type": "code",
      "execution_count": 33,
      "id": "6b5a762a",
      "metadata": {
        "colab": {
          "base_uri": "https://localhost:8080/"
        },
        "id": "6b5a762a",
        "outputId": "37a0b08e-e10f-4981-97b1-4fa4dd911f59"
      },
      "outputs": [
        {
          "output_type": "stream",
          "name": "stdout",
          "text": [
            "(1, 'Rock')\n",
            "(2, 'Jazz')\n",
            "(3, 'Metal')\n",
            "(4, 'Alternative & Punk')\n",
            "(5, 'Rock And Roll')\n",
            "(6, 'Blues')\n",
            "(7, 'Latin')\n",
            "(8, 'Reggae')\n",
            "(9, 'Pop')\n",
            "(10, 'Soundtrack')\n",
            "(11, 'Bossa Nova')\n",
            "(12, 'Easy Listening')\n",
            "(13, 'Heavy Metal')\n",
            "(14, 'R&B/Soul')\n",
            "(15, 'Electronica/Dance')\n",
            "(16, 'World')\n",
            "(17, 'Hip Hop/Rap')\n",
            "(18, 'Science Fiction')\n",
            "(19, 'TV Shows')\n",
            "(20, 'Sci Fi & Fantasy')\n",
            "(21, 'Drama')\n",
            "(22, 'Comedy')\n",
            "(23, 'Alternative')\n",
            "(24, 'Classical')\n",
            "(25, 'Opera')\n"
          ]
        }
      ],
      "source": [
        "#seleccionar todos los campos de la tabla.\n",
        "\n",
        "# Ejecutemos SQL sin procesar en algunas tablas usando SQLAlchemy\n",
        "with engine.connect() as con:\n",
        "    \n",
        "    rs = con.execute('select * from genres')\n",
        "    \n",
        "    for row in rs:\n",
        "        print(row)\n",
        "# No olvide cerrar su conexión a la base de datos cuando finalice la consulta\n",
        "con.close()\n",
        "\n",
        "# Nota: Use LIMIT n para limitar el número de filas devueltas. No hay problema con esta pequeña mesa.\n"
      ]
    },
    {
      "cell_type": "code",
      "execution_count": 34,
      "id": "6549e49e",
      "metadata": {
        "id": "6549e49e"
      },
      "outputs": [],
      "source": [
        "# Consulta especifica para los datos que necesito.\n",
        "\n",
        "with engine.connect() as con:\n",
        "    \n",
        "    rs = con.execute(\"\"\"select GenreId, Name as NameGenre from genres;\"\"\")\n",
        "        \n",
        "con.close()\n"
      ]
    },
    {
      "cell_type": "markdown",
      "id": "2ecbf5c8",
      "metadata": {
        "id": "2ecbf5c8"
      },
      "source": [
        "# Load"
      ]
    },
    {
      "cell_type": "code",
      "execution_count": 35,
      "id": "e0c704b0",
      "metadata": {
        "id": "e0c704b0"
      },
      "outputs": [],
      "source": [
        "#Cargar a última query. Aquí debe utilizar un objeto dataframe\n",
        "import pandas as pd\n",
        "df = pd.read_sql_query(\"\"\"select GenreId, Name as NameGenre from genres;\"\"\", con=engine.connect())\n"
      ]
    },
    {
      "cell_type": "code",
      "execution_count": 36,
      "id": "8e1eb443",
      "metadata": {
        "id": "8e1eb443"
      },
      "outputs": [],
      "source": [
        "#Exportar el archivo en un formato a su elección.\n",
        "df.to_csv('dimGenres.csv')\n"
      ]
    }
  ],
  "metadata": {
    "kernelspec": {
      "display_name": "Python 3",
      "language": "python",
      "name": "python3"
    },
    "language_info": {
      "codemirror_mode": {
        "name": "ipython",
        "version": 3
      },
      "file_extension": ".py",
      "mimetype": "text/x-python",
      "name": "python",
      "nbconvert_exporter": "python",
      "pygments_lexer": "ipython3",
      "version": "3.6.10"
    },
    "colab": {
      "name": "[NRC_8903]_JeffersonGuamán_Lab1_ETL_Genres.ipynb",
      "provenance": [],
      "collapsed_sections": []
    }
  },
  "nbformat": 4,
  "nbformat_minor": 5
}